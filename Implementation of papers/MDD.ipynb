{
  "nbformat": 4,
  "nbformat_minor": 0,
  "metadata": {
    "deepnote": {
      "is_reactive": false
    },
    "deepnote_execution_queue": [],
    "deepnote_notebook_id": "f5c98dfa-7172-4092-bba8-2c07c147b1c4",
    "kernelspec": {
      "display_name": "Python 3 (ipykernel)",
      "language": "python",
      "name": "python3"
    },
    "language_info": {
      "codemirror_mode": {
        "name": "ipython",
        "version": 3
      },
      "file_extension": ".py",
      "mimetype": "text/x-python",
      "name": "python",
      "nbconvert_exporter": "python",
      "pygments_lexer": "ipython3",
      "version": "3.9.7"
    },
    "colab": {
      "name": "MDD.ipynb",
      "provenance": []
    },
    "accelerator": "GPU"
  },
  "cells": [
    {
      "cell_type": "code",
      "metadata": {
        "cell_id": "00003-d38b67cd-cc03-4f59-be12-2b709854ecdc",
        "deepnote_cell_type": "code",
        "deepnote_to_be_reexecuted": false,
        "execution_millis": 2768,
        "execution_start": 1632219513075,
        "source_hash": "bd27224a",
        "tags": [],
        "colab": {
          "base_uri": "https://localhost:8080/"
        },
        "id": "LiEK-RroFaUA",
        "outputId": "f8f64e2c-5854-4994-ea92-fde6b53b5cfb"
      },
      "source": [
        "import numpy as np\n",
        "import pandas as pd\n",
        "from imblearn.over_sampling import SMOTE\n",
        "import matplotlib.pyplot as plt\n",
        "from sklearn.metrics import classification_report\n",
        "from sklearn.model_selection import train_test_split\n",
        "import seaborn as sns\n",
        "from tensorflow import keras"
      ],
      "execution_count": 2,
      "outputs": [
        {
          "output_type": "stream",
          "name": "stderr",
          "text": [
            "/usr/local/lib/python3.7/dist-packages/sklearn/externals/six.py:31: FutureWarning: The module is deprecated in version 0.21 and will be removed in version 0.23 since we've dropped support for Python 2.7. Please rely on the official version of six (https://pypi.org/project/six/).\n",
            "  \"(https://pypi.org/project/six/).\", FutureWarning)\n",
            "/usr/local/lib/python3.7/dist-packages/sklearn/utils/deprecation.py:144: FutureWarning: The sklearn.neighbors.base module is  deprecated in version 0.22 and will be removed in version 0.24. The corresponding classes / functions should instead be imported from sklearn.neighbors. Anything that cannot be imported from sklearn.neighbors is now part of the private API.\n",
            "  warnings.warn(message, FutureWarning)\n"
          ]
        }
      ]
    },
    {
      "cell_type": "code",
      "metadata": {
        "cell_id": "00005-e800a74f-9591-4d2e-9f65-f41ddfd57417",
        "deepnote_cell_type": "code",
        "deepnote_to_be_reexecuted": false,
        "execution_millis": 1167,
        "execution_start": 1632219515867,
        "source_hash": "42ce759e",
        "tags": [],
        "id": "9Bj7I0U1FaUC"
      },
      "source": [
        "df = pd.read_csv('MDD_dataset.csv')"
      ],
      "execution_count": 3,
      "outputs": []
    },
    {
      "cell_type": "code",
      "metadata": {
        "cell_id": "00006-0e1538d0-e076-48cd-8713-74a59d5f7fee",
        "deepnote_cell_type": "code",
        "deepnote_to_be_reexecuted": false,
        "execution_millis": 72,
        "execution_start": 1632219517589,
        "source_hash": "de1e323c",
        "tags": [],
        "colab": {
          "base_uri": "https://localhost:8080/"
        },
        "id": "stgMEBUmFaUD",
        "outputId": "3ece6b62-ab21-417e-eb3b-854cc628496d"
      },
      "source": [
        "df.info()"
      ],
      "execution_count": 4,
      "outputs": [
        {
          "output_type": "stream",
          "name": "stdout",
          "text": [
            "<class 'pandas.core.frame.DataFrame'>\n",
            "RangeIndex: 179097 entries, 0 to 179096\n",
            "Data columns (total 15 columns):\n",
            " #   Column                Non-Null Count   Dtype \n",
            "---  ------                --------------   ----- \n",
            " 0   Age                   179096 non-null  object\n",
            " 1   Sex                   179096 non-null  object\n",
            " 2   Race                  179096 non-null  object\n",
            " 3   Employment Status     179096 non-null  object\n",
            " 4   Education Status      179096 non-null  object\n",
            " 5   Alcohol               179096 non-null  object\n",
            " 6   Drugs                 179096 non-null  object\n",
            " 7   High Blood Pressure   179096 non-null  object\n",
            " 8   Obesity               179096 non-null  object\n",
            " 9   Diabetes              179096 non-null  object\n",
            " 10  Smokes                179096 non-null  object\n",
            " 11  Other Mental Illness  179096 non-null  object\n",
            " 12  Insurance             179096 non-null  object\n",
            " 13  Financial Assistance  179096 non-null  object\n",
            " 14  Mental Illness        179096 non-null  object\n",
            "dtypes: object(15)\n",
            "memory usage: 20.5+ MB\n"
          ]
        }
      ]
    },
    {
      "cell_type": "code",
      "metadata": {
        "cell_id": "00003-500062a7-5f84-4889-bba3-7c9d59e20b8b",
        "deepnote_cell_type": "code",
        "deepnote_to_be_reexecuted": false,
        "execution_millis": 101,
        "execution_start": 1632219517657,
        "source_hash": "54f0cf49",
        "tags": [],
        "id": "XkkCzQyhFaUE"
      },
      "source": [
        "test_df = df.copy()"
      ],
      "execution_count": 5,
      "outputs": []
    },
    {
      "cell_type": "code",
      "metadata": {
        "cell_id": "00009-20542e4a-3437-408d-aa1b-00550d9de3d7",
        "deepnote_cell_type": "code",
        "deepnote_to_be_reexecuted": false,
        "execution_millis": 2819,
        "execution_start": 1632219517763,
        "source_hash": "5460511f",
        "tags": [],
        "id": "KsmiI7KBFaUF"
      },
      "source": [
        "df.replace({'YES':1 ,'NO':0}, inplace=True)"
      ],
      "execution_count": 6,
      "outputs": []
    },
    {
      "cell_type": "code",
      "metadata": {
        "cell_id": "00005-6da0d1fe-3299-47c9-a667-348989d8a61a",
        "deepnote_cell_type": "code",
        "deepnote_to_be_reexecuted": false,
        "execution_millis": 125,
        "execution_start": 1632219520582,
        "source_hash": "57e298c6",
        "tags": [],
        "id": "sRzGKUkZFaUF"
      },
      "source": [
        "df.replace({'FEMALE': 0, 'MALE': 1}, inplace=True)"
      ],
      "execution_count": 7,
      "outputs": []
    },
    {
      "cell_type": "code",
      "metadata": {
        "cell_id": "00005-91ac65d8-51a2-4749-97d1-a32bf936be7b",
        "deepnote_cell_type": "code",
        "deepnote_to_be_reexecuted": false,
        "execution_millis": 260,
        "execution_start": 1632219520707,
        "source_hash": "5adb3ea8",
        "tags": [],
        "id": "qt1NgeCLFaUG"
      },
      "source": [
        "df.replace({'CHILD': 0, 'ADULT': 1}, inplace=True)"
      ],
      "execution_count": 8,
      "outputs": []
    },
    {
      "cell_type": "code",
      "metadata": {
        "cell_id": "00007-297c1d4a-60a5-4f09-a098-ac4467689c55",
        "deepnote_cell_type": "code",
        "deepnote_to_be_reexecuted": false,
        "execution_millis": 181,
        "execution_start": 1632219570142,
        "source_hash": "cb87f177",
        "tags": [],
        "id": "Kexh7NUZFaUG"
      },
      "source": [
        "df.replace({'BLACK': 0, 'WHITE': 1}, inplace=True)"
      ],
      "execution_count": 9,
      "outputs": []
    },
    {
      "cell_type": "code",
      "metadata": {
        "cell_id": "00008-2f4d0be6-9c03-4218-b846-1b2c8e359b92",
        "deepnote_cell_type": "code",
        "deepnote_to_be_reexecuted": false,
        "execution_millis": 30,
        "execution_start": 1632219597207,
        "source_hash": "9fe2a6d2",
        "tags": [],
        "id": "M85r1tkOFaUG"
      },
      "source": [
        "df.replace({'NOT EMPLOYED': 0, 'EMPLOYED': 1}, inplace=True)"
      ],
      "execution_count": 10,
      "outputs": []
    },
    {
      "cell_type": "code",
      "metadata": {
        "cell_id": "00006-7f5b573b-7387-4ca3-832e-15116331de7f",
        "deepnote_cell_type": "code",
        "deepnote_to_be_reexecuted": false,
        "execution_millis": 53,
        "execution_start": 1632219520978,
        "source_hash": "547d25a6",
        "tags": [],
        "id": "t07VK5jOFaUH"
      },
      "source": [
        "df_one = pd.get_dummies(df[\"Education Status\"])"
      ],
      "execution_count": 11,
      "outputs": []
    },
    {
      "cell_type": "code",
      "metadata": {
        "cell_id": "00006-9ff81798-8c5b-4faf-a8e8-0008c6b901e8",
        "deepnote_cell_type": "code",
        "deepnote_to_be_reexecuted": false,
        "execution_millis": 87,
        "execution_start": 1632219603697,
        "source_hash": "6fbc9299",
        "tags": [],
        "colab": {
          "base_uri": "https://localhost:8080/",
          "height": 473
        },
        "id": "v32s-BFSFaUH",
        "outputId": "ea4975a0-a648-4f4f-80e4-a7cbf8728d8e"
      },
      "source": [
        "new_df = pd.concat((df, df_one), axis=1)\n",
        "new_df = new_df.drop([\"Education Status\",\"Unknown\"], axis=1)\n",
        "new_df"
      ],
      "execution_count": 12,
      "outputs": [
        {
          "output_type": "execute_result",
          "data": {
            "text/html": [
              "<div>\n",
              "<style scoped>\n",
              "    .dataframe tbody tr th:only-of-type {\n",
              "        vertical-align: middle;\n",
              "    }\n",
              "\n",
              "    .dataframe tbody tr th {\n",
              "        vertical-align: top;\n",
              "    }\n",
              "\n",
              "    .dataframe thead th {\n",
              "        text-align: right;\n",
              "    }\n",
              "</style>\n",
              "<table border=\"1\" class=\"dataframe\">\n",
              "  <thead>\n",
              "    <tr style=\"text-align: right;\">\n",
              "      <th></th>\n",
              "      <th>Age</th>\n",
              "      <th>Sex</th>\n",
              "      <th>Race</th>\n",
              "      <th>Employment Status</th>\n",
              "      <th>Alcohol</th>\n",
              "      <th>Drugs</th>\n",
              "      <th>High Blood Pressure</th>\n",
              "      <th>Obesity</th>\n",
              "      <th>Diabetes</th>\n",
              "      <th>Smokes</th>\n",
              "      <th>Other Mental Illness</th>\n",
              "      <th>Insurance</th>\n",
              "      <th>Financial Assistance</th>\n",
              "      <th>Mental Illness</th>\n",
              "      <th>College</th>\n",
              "      <th>High School</th>\n",
              "    </tr>\n",
              "  </thead>\n",
              "  <tbody>\n",
              "    <tr>\n",
              "      <th>0</th>\n",
              "      <td>1.0</td>\n",
              "      <td>1</td>\n",
              "      <td>0.0</td>\n",
              "      <td>0.0</td>\n",
              "      <td>0.0</td>\n",
              "      <td>0.0</td>\n",
              "      <td>1.0</td>\n",
              "      <td>1.0</td>\n",
              "      <td>1.0</td>\n",
              "      <td>1.0</td>\n",
              "      <td>1.0</td>\n",
              "      <td>0.0</td>\n",
              "      <td>0.0</td>\n",
              "      <td>1.0</td>\n",
              "      <td>0</td>\n",
              "      <td>1</td>\n",
              "    </tr>\n",
              "    <tr>\n",
              "      <th>1</th>\n",
              "      <td>1.0</td>\n",
              "      <td>1</td>\n",
              "      <td>1.0</td>\n",
              "      <td>0.0</td>\n",
              "      <td>1.0</td>\n",
              "      <td>0.0</td>\n",
              "      <td>1.0</td>\n",
              "      <td>1.0</td>\n",
              "      <td>1.0</td>\n",
              "      <td>1.0</td>\n",
              "      <td>1.0</td>\n",
              "      <td>1.0</td>\n",
              "      <td>1.0</td>\n",
              "      <td>1.0</td>\n",
              "      <td>1</td>\n",
              "      <td>0</td>\n",
              "    </tr>\n",
              "    <tr>\n",
              "      <th>2</th>\n",
              "      <td>1.0</td>\n",
              "      <td>1</td>\n",
              "      <td>1.0</td>\n",
              "      <td>0.0</td>\n",
              "      <td>1.0</td>\n",
              "      <td>1.0</td>\n",
              "      <td>1.0</td>\n",
              "      <td>1.0</td>\n",
              "      <td>1.0</td>\n",
              "      <td>1.0</td>\n",
              "      <td>1.0</td>\n",
              "      <td>0.0</td>\n",
              "      <td>0.0</td>\n",
              "      <td>1.0</td>\n",
              "      <td>1</td>\n",
              "      <td>0</td>\n",
              "    </tr>\n",
              "    <tr>\n",
              "      <th>3</th>\n",
              "      <td>1.0</td>\n",
              "      <td>0</td>\n",
              "      <td>0.0</td>\n",
              "      <td>0.0</td>\n",
              "      <td>1.0</td>\n",
              "      <td>1.0</td>\n",
              "      <td>1.0</td>\n",
              "      <td>1.0</td>\n",
              "      <td>1.0</td>\n",
              "      <td>1.0</td>\n",
              "      <td>1.0</td>\n",
              "      <td>0.0</td>\n",
              "      <td>0.0</td>\n",
              "      <td>1.0</td>\n",
              "      <td>0</td>\n",
              "      <td>1</td>\n",
              "    </tr>\n",
              "    <tr>\n",
              "      <th>4</th>\n",
              "      <td>1.0</td>\n",
              "      <td>1</td>\n",
              "      <td>0.0</td>\n",
              "      <td>0.0</td>\n",
              "      <td>1.0</td>\n",
              "      <td>1.0</td>\n",
              "      <td>0.0</td>\n",
              "      <td>1.0</td>\n",
              "      <td>1.0</td>\n",
              "      <td>1.0</td>\n",
              "      <td>1.0</td>\n",
              "      <td>1.0</td>\n",
              "      <td>0.0</td>\n",
              "      <td>1.0</td>\n",
              "      <td>0</td>\n",
              "      <td>1</td>\n",
              "    </tr>\n",
              "    <tr>\n",
              "      <th>...</th>\n",
              "      <td>...</td>\n",
              "      <td>...</td>\n",
              "      <td>...</td>\n",
              "      <td>...</td>\n",
              "      <td>...</td>\n",
              "      <td>...</td>\n",
              "      <td>...</td>\n",
              "      <td>...</td>\n",
              "      <td>...</td>\n",
              "      <td>...</td>\n",
              "      <td>...</td>\n",
              "      <td>...</td>\n",
              "      <td>...</td>\n",
              "      <td>...</td>\n",
              "      <td>...</td>\n",
              "      <td>...</td>\n",
              "    </tr>\n",
              "    <tr>\n",
              "      <th>179092</th>\n",
              "      <td>0.0</td>\n",
              "      <td>1</td>\n",
              "      <td>0.0</td>\n",
              "      <td>0.0</td>\n",
              "      <td>1.0</td>\n",
              "      <td>1.0</td>\n",
              "      <td>1.0</td>\n",
              "      <td>1.0</td>\n",
              "      <td>1.0</td>\n",
              "      <td>1.0</td>\n",
              "      <td>1.0</td>\n",
              "      <td>0.0</td>\n",
              "      <td>0.0</td>\n",
              "      <td>1.0</td>\n",
              "      <td>0</td>\n",
              "      <td>1</td>\n",
              "    </tr>\n",
              "    <tr>\n",
              "      <th>179093</th>\n",
              "      <td>0.0</td>\n",
              "      <td>1</td>\n",
              "      <td>1.0</td>\n",
              "      <td>0.0</td>\n",
              "      <td>1.0</td>\n",
              "      <td>1.0</td>\n",
              "      <td>1.0</td>\n",
              "      <td>1.0</td>\n",
              "      <td>1.0</td>\n",
              "      <td>1.0</td>\n",
              "      <td>1.0</td>\n",
              "      <td>0.0</td>\n",
              "      <td>0.0</td>\n",
              "      <td>1.0</td>\n",
              "      <td>0</td>\n",
              "      <td>0</td>\n",
              "    </tr>\n",
              "    <tr>\n",
              "      <th>179094</th>\n",
              "      <td>0.0</td>\n",
              "      <td>0</td>\n",
              "      <td>0.0</td>\n",
              "      <td>0.0</td>\n",
              "      <td>1.0</td>\n",
              "      <td>1.0</td>\n",
              "      <td>1.0</td>\n",
              "      <td>1.0</td>\n",
              "      <td>1.0</td>\n",
              "      <td>1.0</td>\n",
              "      <td>1.0</td>\n",
              "      <td>0.0</td>\n",
              "      <td>0.0</td>\n",
              "      <td>1.0</td>\n",
              "      <td>0</td>\n",
              "      <td>1</td>\n",
              "    </tr>\n",
              "    <tr>\n",
              "      <th>179095</th>\n",
              "      <td>0.0</td>\n",
              "      <td>0</td>\n",
              "      <td>0.0</td>\n",
              "      <td>0.0</td>\n",
              "      <td>1.0</td>\n",
              "      <td>1.0</td>\n",
              "      <td>1.0</td>\n",
              "      <td>1.0</td>\n",
              "      <td>1.0</td>\n",
              "      <td>1.0</td>\n",
              "      <td>1.0</td>\n",
              "      <td>0.0</td>\n",
              "      <td>1.0</td>\n",
              "      <td>1.0</td>\n",
              "      <td>0</td>\n",
              "      <td>1</td>\n",
              "    </tr>\n",
              "    <tr>\n",
              "      <th>179096</th>\n",
              "      <td>NaN</td>\n",
              "      <td>NaN</td>\n",
              "      <td>NaN</td>\n",
              "      <td>NaN</td>\n",
              "      <td>NaN</td>\n",
              "      <td>NaN</td>\n",
              "      <td>NaN</td>\n",
              "      <td>NaN</td>\n",
              "      <td>NaN</td>\n",
              "      <td>NaN</td>\n",
              "      <td>NaN</td>\n",
              "      <td>NaN</td>\n",
              "      <td>NaN</td>\n",
              "      <td>NaN</td>\n",
              "      <td>0</td>\n",
              "      <td>0</td>\n",
              "    </tr>\n",
              "  </tbody>\n",
              "</table>\n",
              "<p>179097 rows × 16 columns</p>\n",
              "</div>"
            ],
            "text/plain": [
              "        Age  Sex  Race  ...  Mental Illness  College  High School\n",
              "0       1.0    1   0.0  ...             1.0        0            1\n",
              "1       1.0    1   1.0  ...             1.0        1            0\n",
              "2       1.0    1   1.0  ...             1.0        1            0\n",
              "3       1.0    0   0.0  ...             1.0        0            1\n",
              "4       1.0    1   0.0  ...             1.0        0            1\n",
              "...     ...  ...   ...  ...             ...      ...          ...\n",
              "179092  0.0    1   0.0  ...             1.0        0            1\n",
              "179093  0.0    1   1.0  ...             1.0        0            0\n",
              "179094  0.0    0   0.0  ...             1.0        0            1\n",
              "179095  0.0    0   0.0  ...             1.0        0            1\n",
              "179096  NaN  NaN   NaN  ...             NaN        0            0\n",
              "\n",
              "[179097 rows x 16 columns]"
            ]
          },
          "metadata": {},
          "execution_count": 12
        }
      ]
    },
    {
      "cell_type": "code",
      "metadata": {
        "cell_id": "00008-36b52833-b440-458e-90ff-19dc58b65617",
        "deepnote_cell_type": "code",
        "deepnote_to_be_reexecuted": false,
        "execution_millis": 65,
        "execution_start": 1632219609539,
        "source_hash": "cddbe09c",
        "tags": [],
        "id": "vmgUaR3CFaUI"
      },
      "source": [
        "new_df['Sex'] = new_df['Sex'].apply(lambda x: 1 if x=='UNKNOWN' else x)"
      ],
      "execution_count": 13,
      "outputs": []
    },
    {
      "cell_type": "code",
      "metadata": {
        "cell_id": "00008-c13d17d4-ca1f-4b43-85c6-2411e67177b6",
        "deepnote_cell_type": "code",
        "deepnote_to_be_reexecuted": false,
        "execution_millis": 0,
        "execution_start": 1632219614224,
        "source_hash": "ff440fc7",
        "tags": [],
        "id": "w3jS4dBTFaUI"
      },
      "source": [
        "def show_unique(df):\n",
        "    for col in df:\n",
        "        print(f'{col} unique: {df[col].unique()}')"
      ],
      "execution_count": 14,
      "outputs": []
    },
    {
      "cell_type": "code",
      "metadata": {
        "cell_id": "00009-b968b431-0d78-463b-9a62-66fbacca791e",
        "deepnote_cell_type": "code",
        "deepnote_to_be_reexecuted": false,
        "execution_millis": 6,
        "execution_start": 1632220405923,
        "source_hash": "ad37e424",
        "tags": [],
        "colab": {
          "base_uri": "https://localhost:8080/"
        },
        "id": "ca6WzJI7FaUI",
        "outputId": "f7f8c4ed-90cf-424b-e3dd-0efd7f0ca436"
      },
      "source": [
        "show_unique(new_df)"
      ],
      "execution_count": 15,
      "outputs": [
        {
          "output_type": "stream",
          "name": "stdout",
          "text": [
            "Age unique: [ 1.  0. nan]\n",
            "Sex unique: [ 1.  0. nan]\n",
            "Race unique: [ 0.  1. nan]\n",
            "Employment Status unique: [ 0.  1. nan]\n",
            "Alcohol unique: [ 0.  1. nan]\n",
            "Drugs unique: [ 0.  1. nan]\n",
            "High Blood Pressure unique: [ 1.  0. nan]\n",
            "Obesity unique: [ 1.  0. nan]\n",
            "Diabetes unique: [ 1.  0. nan]\n",
            "Smokes unique: [ 1.  0. nan]\n",
            "Other Mental Illness unique: [ 1.  0. nan]\n",
            "Insurance unique: [ 0.  1. nan]\n",
            "Financial Assistance unique: [ 0.  1. nan]\n",
            "Mental Illness unique: [ 1.  0. nan]\n",
            "College unique: [0 1]\n",
            "High School unique: [1 0]\n"
          ]
        }
      ]
    },
    {
      "cell_type": "code",
      "metadata": {
        "cell_id": "00011-9ee936ad-c29b-48c8-939f-0045433e9022",
        "deepnote_cell_type": "code",
        "deepnote_to_be_reexecuted": false,
        "execution_millis": 25,
        "execution_start": 1632219521541,
        "source_hash": "c7e47325",
        "tags": [],
        "colab": {
          "base_uri": "https://localhost:8080/"
        },
        "id": "KJXygJvZFaUJ",
        "outputId": "7392867a-de6e-49e1-f9a5-82e4310bcf10"
      },
      "source": [
        "new_df['Mental Illness'].value_counts()"
      ],
      "execution_count": 16,
      "outputs": [
        {
          "output_type": "execute_result",
          "data": {
            "text/plain": [
              "1.0    166407\n",
              "0.0     12689\n",
              "Name: Mental Illness, dtype: int64"
            ]
          },
          "metadata": {},
          "execution_count": 16
        }
      ]
    },
    {
      "cell_type": "code",
      "metadata": {
        "id": "_sckkD1GFaUJ"
      },
      "source": [
        "new_df = new_df[:179096]"
      ],
      "execution_count": 17,
      "outputs": []
    },
    {
      "cell_type": "code",
      "metadata": {
        "cell_id": "00008-2e4d306f-edb8-4f7a-89b7-3eea4b986cbd",
        "deepnote_cell_type": "code",
        "deepnote_to_be_reexecuted": false,
        "execution_millis": 3,
        "execution_start": 1632220589945,
        "source_hash": "ef8bb191",
        "tags": [],
        "id": "WXNY_koXFaUK"
      },
      "source": [
        "X = new_df.drop('Mental Illness',axis=1)\n",
        "y = new_df['Mental Illness']\n",
        "# X = np.asarray(X).astype(np.float32)"
      ],
      "execution_count": 18,
      "outputs": []
    },
    {
      "cell_type": "code",
      "metadata": {
        "cell_id": "00026-739ba1e5-f42b-4dc7-aa36-86b6f19d3bcb",
        "deepnote_cell_type": "code",
        "deepnote_to_be_reexecuted": false,
        "execution_millis": 2282,
        "execution_start": 1632220755323,
        "source_hash": "11e86b5b",
        "tags": [],
        "colab": {
          "base_uri": "https://localhost:8080/"
        },
        "id": "i6azwW_UFaUK",
        "outputId": "a39e60c9-90bb-4f29-c37a-1c8df8261577"
      },
      "source": [
        "\n",
        "\n",
        "smote = SMOTE(sampling_strategy='minority')\n",
        "\n",
        "X_smot, y_smot = smote.fit_resample(X,y)\n",
        "X_smot = np.asarray(X_smot).astype(np.float32)"
      ],
      "execution_count": 19,
      "outputs": [
        {
          "output_type": "stream",
          "name": "stderr",
          "text": [
            "/usr/local/lib/python3.7/dist-packages/sklearn/utils/deprecation.py:87: FutureWarning: Function safe_indexing is deprecated; safe_indexing is deprecated in version 0.22 and will be removed in version 0.24.\n",
            "  warnings.warn(msg, category=FutureWarning)\n"
          ]
        }
      ]
    },
    {
      "cell_type": "code",
      "metadata": {
        "cell_id": "00017-a32faabf-970c-4ce7-ac8c-c6f2bffe725c",
        "deepnote_cell_type": "code",
        "deepnote_to_be_reexecuted": false,
        "execution_millis": 8,
        "execution_start": 1632220795431,
        "source_hash": "56410985",
        "tags": [],
        "colab": {
          "base_uri": "https://localhost:8080/"
        },
        "id": "yh9zXQ0-FaUL",
        "outputId": "b724b9c4-702f-49ff-fc15-0c1a4f3ceb11"
      },
      "source": [
        "print(len(X_smot),len(y_smot))"
      ],
      "execution_count": 20,
      "outputs": [
        {
          "output_type": "stream",
          "name": "stdout",
          "text": [
            "332814 332814\n"
          ]
        }
      ]
    },
    {
      "cell_type": "code",
      "metadata": {
        "cell_id": "00007-4e7a6c81-4a46-4381-9452-ce16b5592854",
        "deepnote_cell_type": "code",
        "deepnote_to_be_reexecuted": false,
        "execution_millis": 205,
        "execution_start": 1632220975413,
        "source_hash": "7a095222",
        "tags": [],
        "id": "96QrLTLdFaUM"
      },
      "source": [
        "\n",
        "X_train, X_test, y_train, y_test = train_test_split(X_smot,y_smot,test_size=0.3, stratify=y_smot)"
      ],
      "execution_count": 21,
      "outputs": []
    },
    {
      "cell_type": "code",
      "metadata": {
        "cell_id": "00010-9b859d24-a2de-4f3c-b12c-06cf43174f0e",
        "deepnote_cell_type": "code",
        "deepnote_to_be_reexecuted": false,
        "execution_millis": 387401,
        "execution_start": 1632221628554,
        "source_hash": "fcce0273",
        "tags": [],
        "colab": {
          "base_uri": "https://localhost:8080/"
        },
        "id": "FW1FSsiYFaUM",
        "outputId": "4d67ac26-33d8-444c-a2a2-ea69a2e761c9"
      },
      "source": [
        "model = keras.Sequential([\n",
        "    keras.layers.Dense(15, input_shape=(15,), activation='relu'),\n",
        "    keras.layers.Dense(60, activation=\"relu\"),\n",
        "    keras.layers.Dense(30, activation=\"relu\"),\n",
        "    keras.layers.Dense(15, activation=\"relu\"),\n",
        "    keras.layers.Dense(1, activation='sigmoid')\n",
        "])\n",
        "\n",
        "model.compile(optimizer='adam',\n",
        "             loss='binary_crossentropy',\n",
        "             metrics=['accuracy'])\n",
        "\n",
        "model.fit(X_train, y_train, epochs=100)"
      ],
      "execution_count": 22,
      "outputs": [
        {
          "output_type": "stream",
          "name": "stdout",
          "text": [
            "Epoch 1/100\n",
            "7281/7281 [==============================] - 31s 4ms/step - loss: 0.4846 - accuracy: 0.7729\n",
            "Epoch 2/100\n",
            "7281/7281 [==============================] - 27s 4ms/step - loss: 0.4706 - accuracy: 0.7793\n",
            "Epoch 3/100\n",
            "7281/7281 [==============================] - 27s 4ms/step - loss: 0.4666 - accuracy: 0.7805\n",
            "Epoch 4/100\n",
            "7281/7281 [==============================] - 27s 4ms/step - loss: 0.4637 - accuracy: 0.7816\n",
            "Epoch 5/100\n",
            "7281/7281 [==============================] - 27s 4ms/step - loss: 0.4614 - accuracy: 0.7816\n",
            "Epoch 6/100\n",
            "7281/7281 [==============================] - 27s 4ms/step - loss: 0.4590 - accuracy: 0.7830\n",
            "Epoch 7/100\n",
            "7281/7281 [==============================] - 27s 4ms/step - loss: 0.4573 - accuracy: 0.7831\n",
            "Epoch 8/100\n",
            "7281/7281 [==============================] - 28s 4ms/step - loss: 0.4557 - accuracy: 0.7837\n",
            "Epoch 9/100\n",
            "7281/7281 [==============================] - 28s 4ms/step - loss: 0.4542 - accuracy: 0.7840\n",
            "Epoch 10/100\n",
            "7281/7281 [==============================] - 27s 4ms/step - loss: 0.4528 - accuracy: 0.7844\n",
            "Epoch 11/100\n",
            "7281/7281 [==============================] - 27s 4ms/step - loss: 0.4513 - accuracy: 0.7851\n",
            "Epoch 12/100\n",
            "7281/7281 [==============================] - 27s 4ms/step - loss: 0.4502 - accuracy: 0.7853\n",
            "Epoch 13/100\n",
            "7281/7281 [==============================] - 27s 4ms/step - loss: 0.4491 - accuracy: 0.7863\n",
            "Epoch 14/100\n",
            "7281/7281 [==============================] - 27s 4ms/step - loss: 0.4482 - accuracy: 0.7862\n",
            "Epoch 15/100\n",
            "7281/7281 [==============================] - 27s 4ms/step - loss: 0.4473 - accuracy: 0.7864\n",
            "Epoch 16/100\n",
            "7281/7281 [==============================] - 27s 4ms/step - loss: 0.4466 - accuracy: 0.7863\n",
            "Epoch 17/100\n",
            "7281/7281 [==============================] - 27s 4ms/step - loss: 0.4456 - accuracy: 0.7869\n",
            "Epoch 18/100\n",
            "7281/7281 [==============================] - 27s 4ms/step - loss: 0.4448 - accuracy: 0.7873\n",
            "Epoch 19/100\n",
            "7281/7281 [==============================] - 27s 4ms/step - loss: 0.4441 - accuracy: 0.7873\n",
            "Epoch 20/100\n",
            "7281/7281 [==============================] - 28s 4ms/step - loss: 0.4435 - accuracy: 0.7882\n",
            "Epoch 21/100\n",
            "7281/7281 [==============================] - 28s 4ms/step - loss: 0.4429 - accuracy: 0.7878\n",
            "Epoch 22/100\n",
            "7281/7281 [==============================] - 28s 4ms/step - loss: 0.4422 - accuracy: 0.7882\n",
            "Epoch 23/100\n",
            "7281/7281 [==============================] - 28s 4ms/step - loss: 0.4415 - accuracy: 0.7881\n",
            "Epoch 24/100\n",
            "7281/7281 [==============================] - 28s 4ms/step - loss: 0.4407 - accuracy: 0.7885\n",
            "Epoch 25/100\n",
            "7281/7281 [==============================] - 28s 4ms/step - loss: 0.4404 - accuracy: 0.7891\n",
            "Epoch 26/100\n",
            "7281/7281 [==============================] - 28s 4ms/step - loss: 0.4398 - accuracy: 0.7893\n",
            "Epoch 27/100\n",
            "7281/7281 [==============================] - 28s 4ms/step - loss: 0.4396 - accuracy: 0.7890\n",
            "Epoch 28/100\n",
            "7281/7281 [==============================] - 28s 4ms/step - loss: 0.4386 - accuracy: 0.7893\n",
            "Epoch 29/100\n",
            "7281/7281 [==============================] - 27s 4ms/step - loss: 0.4382 - accuracy: 0.7891\n",
            "Epoch 30/100\n",
            "7281/7281 [==============================] - 27s 4ms/step - loss: 0.4382 - accuracy: 0.7897\n",
            "Epoch 31/100\n",
            "7281/7281 [==============================] - 28s 4ms/step - loss: 0.4377 - accuracy: 0.7889\n",
            "Epoch 32/100\n",
            "7281/7281 [==============================] - 28s 4ms/step - loss: 0.4372 - accuracy: 0.7900\n",
            "Epoch 33/100\n",
            "7281/7281 [==============================] - 28s 4ms/step - loss: 0.4371 - accuracy: 0.7906\n",
            "Epoch 34/100\n",
            "7281/7281 [==============================] - 27s 4ms/step - loss: 0.4364 - accuracy: 0.7910\n",
            "Epoch 35/100\n",
            "7281/7281 [==============================] - 28s 4ms/step - loss: 0.4363 - accuracy: 0.7905\n",
            "Epoch 36/100\n",
            "7281/7281 [==============================] - 28s 4ms/step - loss: 0.4357 - accuracy: 0.7902\n",
            "Epoch 37/100\n",
            "7281/7281 [==============================] - 28s 4ms/step - loss: 0.4357 - accuracy: 0.7909\n",
            "Epoch 38/100\n",
            "7281/7281 [==============================] - 28s 4ms/step - loss: 0.4354 - accuracy: 0.7913\n",
            "Epoch 39/100\n",
            "7281/7281 [==============================] - 28s 4ms/step - loss: 0.4350 - accuracy: 0.7920\n",
            "Epoch 40/100\n",
            "7281/7281 [==============================] - 28s 4ms/step - loss: 0.4344 - accuracy: 0.7920\n",
            "Epoch 41/100\n",
            "7281/7281 [==============================] - 28s 4ms/step - loss: 0.4343 - accuracy: 0.7911\n",
            "Epoch 42/100\n",
            "7281/7281 [==============================] - 28s 4ms/step - loss: 0.4340 - accuracy: 0.7917\n",
            "Epoch 43/100\n",
            "7281/7281 [==============================] - 28s 4ms/step - loss: 0.4339 - accuracy: 0.7921\n",
            "Epoch 44/100\n",
            "7281/7281 [==============================] - 28s 4ms/step - loss: 0.4336 - accuracy: 0.7917\n",
            "Epoch 45/100\n",
            "7281/7281 [==============================] - 28s 4ms/step - loss: 0.4333 - accuracy: 0.7916\n",
            "Epoch 46/100\n",
            "7281/7281 [==============================] - 27s 4ms/step - loss: 0.4328 - accuracy: 0.7922\n",
            "Epoch 47/100\n",
            "7281/7281 [==============================] - 28s 4ms/step - loss: 0.4322 - accuracy: 0.7925\n",
            "Epoch 48/100\n",
            "7281/7281 [==============================] - 28s 4ms/step - loss: 0.4324 - accuracy: 0.7920\n",
            "Epoch 49/100\n",
            "7281/7281 [==============================] - 28s 4ms/step - loss: 0.4321 - accuracy: 0.7925\n",
            "Epoch 50/100\n",
            "7281/7281 [==============================] - 28s 4ms/step - loss: 0.4317 - accuracy: 0.7925\n",
            "Epoch 51/100\n",
            "7281/7281 [==============================] - 28s 4ms/step - loss: 0.4319 - accuracy: 0.7924\n",
            "Epoch 52/100\n",
            "7281/7281 [==============================] - 28s 4ms/step - loss: 0.4313 - accuracy: 0.7933\n",
            "Epoch 53/100\n",
            "7281/7281 [==============================] - 28s 4ms/step - loss: 0.4313 - accuracy: 0.7928\n",
            "Epoch 54/100\n",
            "7281/7281 [==============================] - 28s 4ms/step - loss: 0.4308 - accuracy: 0.7932\n",
            "Epoch 55/100\n",
            "7281/7281 [==============================] - 28s 4ms/step - loss: 0.4306 - accuracy: 0.7933\n",
            "Epoch 56/100\n",
            "7281/7281 [==============================] - 28s 4ms/step - loss: 0.4309 - accuracy: 0.7924\n",
            "Epoch 57/100\n",
            "7281/7281 [==============================] - 28s 4ms/step - loss: 0.4303 - accuracy: 0.7927\n",
            "Epoch 58/100\n",
            "7281/7281 [==============================] - 27s 4ms/step - loss: 0.4303 - accuracy: 0.7930\n",
            "Epoch 59/100\n",
            "7281/7281 [==============================] - 28s 4ms/step - loss: 0.4301 - accuracy: 0.7937\n",
            "Epoch 60/100\n",
            "7281/7281 [==============================] - 28s 4ms/step - loss: 0.4298 - accuracy: 0.7937\n",
            "Epoch 61/100\n",
            "7281/7281 [==============================] - 28s 4ms/step - loss: 0.4293 - accuracy: 0.7941\n",
            "Epoch 62/100\n",
            "7281/7281 [==============================] - 28s 4ms/step - loss: 0.4294 - accuracy: 0.7940\n",
            "Epoch 63/100\n",
            "7281/7281 [==============================] - 28s 4ms/step - loss: 0.4290 - accuracy: 0.7943\n",
            "Epoch 64/100\n",
            "7281/7281 [==============================] - 28s 4ms/step - loss: 0.4285 - accuracy: 0.7941\n",
            "Epoch 65/100\n",
            "7281/7281 [==============================] - 28s 4ms/step - loss: 0.4285 - accuracy: 0.7945\n",
            "Epoch 66/100\n",
            "7281/7281 [==============================] - 28s 4ms/step - loss: 0.4282 - accuracy: 0.7948\n",
            "Epoch 67/100\n",
            "7281/7281 [==============================] - 28s 4ms/step - loss: 0.4283 - accuracy: 0.7949\n",
            "Epoch 68/100\n",
            "7281/7281 [==============================] - 28s 4ms/step - loss: 0.4280 - accuracy: 0.7941\n",
            "Epoch 69/100\n",
            "7281/7281 [==============================] - 27s 4ms/step - loss: 0.4280 - accuracy: 0.7954\n",
            "Epoch 70/100\n",
            "7281/7281 [==============================] - 27s 4ms/step - loss: 0.4277 - accuracy: 0.7949\n",
            "Epoch 71/100\n",
            "7281/7281 [==============================] - 27s 4ms/step - loss: 0.4276 - accuracy: 0.7948\n",
            "Epoch 72/100\n",
            "7281/7281 [==============================] - 27s 4ms/step - loss: 0.4275 - accuracy: 0.7948\n",
            "Epoch 73/100\n",
            "7281/7281 [==============================] - 27s 4ms/step - loss: 0.4273 - accuracy: 0.7953\n",
            "Epoch 74/100\n",
            "7281/7281 [==============================] - 27s 4ms/step - loss: 0.4273 - accuracy: 0.7948\n",
            "Epoch 75/100\n",
            "7281/7281 [==============================] - 27s 4ms/step - loss: 0.4271 - accuracy: 0.7955\n",
            "Epoch 76/100\n",
            "7281/7281 [==============================] - 27s 4ms/step - loss: 0.4270 - accuracy: 0.7953\n",
            "Epoch 77/100\n",
            "7281/7281 [==============================] - 27s 4ms/step - loss: 0.4264 - accuracy: 0.7950\n",
            "Epoch 78/100\n",
            "7281/7281 [==============================] - 27s 4ms/step - loss: 0.4266 - accuracy: 0.7954\n",
            "Epoch 79/100\n",
            "7281/7281 [==============================] - 27s 4ms/step - loss: 0.4264 - accuracy: 0.7959\n",
            "Epoch 80/100\n",
            "7281/7281 [==============================] - 27s 4ms/step - loss: 0.4263 - accuracy: 0.7960\n",
            "Epoch 81/100\n",
            "7281/7281 [==============================] - 27s 4ms/step - loss: 0.4261 - accuracy: 0.7950\n",
            "Epoch 82/100\n",
            "7281/7281 [==============================] - 27s 4ms/step - loss: 0.4261 - accuracy: 0.7959\n",
            "Epoch 83/100\n",
            "7281/7281 [==============================] - 27s 4ms/step - loss: 0.4258 - accuracy: 0.7961\n",
            "Epoch 84/100\n",
            "7281/7281 [==============================] - 27s 4ms/step - loss: 0.4255 - accuracy: 0.7961\n",
            "Epoch 85/100\n",
            "7281/7281 [==============================] - 27s 4ms/step - loss: 0.4257 - accuracy: 0.7959\n",
            "Epoch 86/100\n",
            "7281/7281 [==============================] - 27s 4ms/step - loss: 0.4255 - accuracy: 0.7958\n",
            "Epoch 87/100\n",
            "7281/7281 [==============================] - 27s 4ms/step - loss: 0.4253 - accuracy: 0.7963\n",
            "Epoch 88/100\n",
            "7281/7281 [==============================] - 27s 4ms/step - loss: 0.4255 - accuracy: 0.7957\n",
            "Epoch 89/100\n",
            "7281/7281 [==============================] - 27s 4ms/step - loss: 0.4251 - accuracy: 0.7956\n",
            "Epoch 90/100\n",
            "7281/7281 [==============================] - 27s 4ms/step - loss: 0.4248 - accuracy: 0.7968\n",
            "Epoch 91/100\n",
            "7281/7281 [==============================] - 27s 4ms/step - loss: 0.4252 - accuracy: 0.7960\n",
            "Epoch 92/100\n",
            "7281/7281 [==============================] - 27s 4ms/step - loss: 0.4250 - accuracy: 0.7959\n",
            "Epoch 93/100\n",
            "7281/7281 [==============================] - 27s 4ms/step - loss: 0.4252 - accuracy: 0.7966\n",
            "Epoch 94/100\n",
            "7281/7281 [==============================] - 27s 4ms/step - loss: 0.4246 - accuracy: 0.7963\n",
            "Epoch 95/100\n",
            "7281/7281 [==============================] - 27s 4ms/step - loss: 0.4246 - accuracy: 0.7965\n",
            "Epoch 96/100\n",
            "7281/7281 [==============================] - 28s 4ms/step - loss: 0.4244 - accuracy: 0.7962\n",
            "Epoch 97/100\n",
            "7281/7281 [==============================] - 28s 4ms/step - loss: 0.4244 - accuracy: 0.7967\n",
            "Epoch 98/100\n",
            "7281/7281 [==============================] - 28s 4ms/step - loss: 0.4242 - accuracy: 0.7966\n",
            "Epoch 99/100\n",
            "7281/7281 [==============================] - 28s 4ms/step - loss: 0.4242 - accuracy: 0.7964\n",
            "Epoch 100/100\n",
            "7281/7281 [==============================] - 28s 4ms/step - loss: 0.4240 - accuracy: 0.7966\n"
          ]
        },
        {
          "output_type": "execute_result",
          "data": {
            "text/plain": [
              "<keras.callbacks.History at 0x7f904c780dd0>"
            ]
          },
          "metadata": {},
          "execution_count": 22
        }
      ]
    },
    {
      "cell_type": "code",
      "metadata": {
        "cell_id": "00015-56edd380-5fce-4812-a7fd-c2021d69a074",
        "deepnote_cell_type": "code",
        "deepnote_to_be_reexecuted": false,
        "execution_millis": 2758,
        "execution_start": 1632222024716,
        "source_hash": "32807fe8",
        "tags": [],
        "colab": {
          "base_uri": "https://localhost:8080/"
        },
        "id": "oWeFybtzFaUN",
        "outputId": "bd595dd1-67a8-47ce-c871-22760494ab41"
      },
      "source": [
        "model.evaluate(X_test,y_test)"
      ],
      "execution_count": 23,
      "outputs": [
        {
          "output_type": "stream",
          "name": "stdout",
          "text": [
            "3121/3121 [==============================] - 8s 3ms/step - loss: 0.4308 - accuracy: 0.7951\n"
          ]
        },
        {
          "output_type": "execute_result",
          "data": {
            "text/plain": [
              "[0.43082329630851746, 0.7950723767280579]"
            ]
          },
          "metadata": {},
          "execution_count": 23
        }
      ]
    },
    {
      "cell_type": "code",
      "metadata": {
        "cell_id": "00016-6bdad78b-5341-4a89-af8c-d6670227d026",
        "deepnote_cell_type": "code",
        "deepnote_to_be_reexecuted": false,
        "execution_millis": 1645,
        "execution_start": 1632222032184,
        "source_hash": "792d35b7",
        "tags": [],
        "colab": {
          "base_uri": "https://localhost:8080/"
        },
        "id": "fQAJoQH6FaUO",
        "outputId": "b0b2ed26-f61c-42d4-d027-bcaa57020bae"
      },
      "source": [
        "y_pred = model.predict(X_test)\n",
        "y_pred"
      ],
      "execution_count": 24,
      "outputs": [
        {
          "output_type": "execute_result",
          "data": {
            "text/plain": [
              "array([[0.522248  ],\n",
              "       [0.53059775],\n",
              "       [0.04575285],\n",
              "       ...,\n",
              "       [0.20277989],\n",
              "       [0.649606  ],\n",
              "       [0.7297189 ]], dtype=float32)"
            ]
          },
          "metadata": {},
          "execution_count": 24
        }
      ]
    },
    {
      "cell_type": "code",
      "metadata": {
        "cell_id": "00017-8d7ae1aa-20f8-4409-bc37-d4865b597410",
        "deepnote_cell_type": "code",
        "deepnote_to_be_reexecuted": false,
        "execution_millis": 137,
        "execution_start": 1632222035667,
        "source_hash": "2b79c25a",
        "tags": [],
        "id": "4-V4T9caFaUO"
      },
      "source": [
        "y_preds = []\n",
        "for y in y_pred:\n",
        "    if y>0.5:\n",
        "        y_preds.append(1)\n",
        "    else:\n",
        "        y_preds.append(0)"
      ],
      "execution_count": 25,
      "outputs": []
    },
    {
      "cell_type": "code",
      "metadata": {
        "cell_id": "00023-0225d510-ec4a-4897-944d-681f192ef7f0",
        "deepnote_cell_type": "code",
        "deepnote_to_be_reexecuted": false,
        "execution_millis": 8,
        "execution_start": 1632222038748,
        "source_hash": "97548054",
        "tags": [],
        "colab": {
          "base_uri": "https://localhost:8080/"
        },
        "id": "gTB4fARAFaUP",
        "outputId": "1a531b83-2989-4b12-d556-78b99ec27c85"
      },
      "source": [
        "print(y_test[:5])\n",
        "print(y_preds[:5])"
      ],
      "execution_count": 26,
      "outputs": [
        {
          "output_type": "stream",
          "name": "stdout",
          "text": [
            "[1. 1. 0. 1. 1.]\n",
            "[1, 1, 0, 1, 1]\n"
          ]
        }
      ]
    },
    {
      "cell_type": "code",
      "metadata": {
        "cell_id": "00018-001803be-90a4-4c9d-8180-3419d2c3040a",
        "deepnote_cell_type": "code",
        "deepnote_to_be_reexecuted": false,
        "execution_millis": 213,
        "execution_start": 1632222043547,
        "source_hash": "afef4abc",
        "tags": [],
        "colab": {
          "base_uri": "https://localhost:8080/"
        },
        "id": "61NknufqFaUQ",
        "outputId": "64acb176-b1dc-4a31-a36c-f97c1614c329"
      },
      "source": [
        "\n",
        "print(classification_report(y_test,y_preds))"
      ],
      "execution_count": 27,
      "outputs": [
        {
          "output_type": "stream",
          "name": "stdout",
          "text": [
            "              precision    recall  f1-score   support\n",
            "\n",
            "         0.0       0.78      0.82      0.80     49922\n",
            "         1.0       0.81      0.77      0.79     49923\n",
            "\n",
            "    accuracy                           0.80     99845\n",
            "   macro avg       0.80      0.80      0.79     99845\n",
            "weighted avg       0.80      0.80      0.79     99845\n",
            "\n"
          ]
        }
      ]
    },
    {
      "cell_type": "code",
      "metadata": {
        "cell_id": "00019-33556fcc-cbae-48ba-9e2c-b831a669406e",
        "deepnote_cell_type": "code",
        "deepnote_to_be_reexecuted": false,
        "execution_millis": 37,
        "execution_start": 1632221522268,
        "source_hash": "b3b37de1",
        "tags": [],
        "colab": {
          "base_uri": "https://localhost:8080/"
        },
        "id": "9HLY-aeZFaUR",
        "outputId": "dde914fc-feea-478d-faa8-4110c5f06fb0"
      },
      "source": [
        "import tensorflow as tf\n",
        "cm = tf.math.confusion_matrix(labels=y_test, predictions=y_preds)\n",
        "cm"
      ],
      "execution_count": 28,
      "outputs": [
        {
          "output_type": "execute_result",
          "data": {
            "text/plain": [
              "<tf.Tensor: shape=(2, 2), dtype=int32, numpy=\n",
              "array([[40938,  8984],\n",
              "       [11477, 38446]], dtype=int32)>"
            ]
          },
          "metadata": {},
          "execution_count": 28
        }
      ]
    },
    {
      "cell_type": "code",
      "metadata": {
        "cell_id": "00020-c6f463b1-9693-4d4c-b2a5-3f1eb42235b0",
        "deepnote_cell_type": "code",
        "deepnote_to_be_reexecuted": false,
        "execution_millis": 268,
        "execution_start": 1632221529790,
        "source_hash": "671730f5",
        "tags": [],
        "colab": {
          "base_uri": "https://localhost:8080/",
          "height": 296
        },
        "id": "SSLssPZ0FaUR",
        "outputId": "57e29548-b737-47bd-8cbf-a90e4474d857"
      },
      "source": [
        "\n",
        "sns.heatmap(cm,annot=True,fmt='d')\n",
        "plt.xlabel('Predicted')\n",
        "plt.ylabel(\"true\")"
      ],
      "execution_count": 29,
      "outputs": [
        {
          "output_type": "execute_result",
          "data": {
            "text/plain": [
              "Text(33.0, 0.5, 'true')"
            ]
          },
          "metadata": {},
          "execution_count": 29
        },
        {
          "output_type": "display_data",
          "data": {
            "image/png": "[encoded data removed]",
            "text/plain": [
              "<Figure size 432x288 with 2 Axes>"
            ]
          },
          "metadata": {
            "needs_background": "light"
          }
        }
      ]
    }
  ]
}